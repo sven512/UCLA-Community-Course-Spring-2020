{
  "nbformat": 4,
  "nbformat_minor": 0,
  "metadata": {
    "colab": {
      "name": "UCLACom_Lab1.ipynb",
      "provenance": [],
      "authorship_tag": "ABX9TyNiR9Z8EpR04oAOXb50Ikhd",
      "include_colab_link": true
    },
    "kernelspec": {
      "name": "python3",
      "display_name": "Python 3"
    }
  },
  "cells": [
    {
      "cell_type": "markdown",
      "metadata": {
        "id": "view-in-github",
        "colab_type": "text"
      },
      "source": [
        "<a href=\"https://colab.research.google.com/github/sven512/UCLA-Community-Course-Spring-2020/blob/master/UCLACom_Lab1.ipynb\" target=\"_parent\"><img src=\"https://colab.research.google.com/assets/colab-badge.svg\" alt=\"Open In Colab\"/></a>"
      ]
    },
    {
      "cell_type": "markdown",
      "metadata": {
        "id": "fcXiFkTutGS3",
        "colab_type": "text"
      },
      "source": [
        "Lab 1: Visualizing Data\n",
        "In this lab, we will review basic Python programming and explore ways to visualize data. There is a good reference sheet at http://www.cogsci.rpi.edu/~destem/igd/python_cheat_sheet.pdf. We will focus on a dataset consisting of annual rainfall totals in downtown Los Angeles."
      ]
    },
    {
      "cell_type": "markdown",
      "metadata": {
        "id": "gMPuIEhWu6b9",
        "colab_type": "text"
      },
      "source": [
        "# Python Review "
      ]
    },
    {
      "cell_type": "markdown",
      "metadata": {
        "id": "z0q9xOZw1KO7",
        "colab_type": "text"
      },
      "source": [
        "In order to be able to refer to a value (number, list of values, graph, etc.) by name, we need to use the = symbol."
      ]
    },
    {
      "cell_type": "code",
      "metadata": {
        "id": "Y-DqwI9h9xF9",
        "colab_type": "code",
        "colab": {}
      },
      "source": [
        "# 1 Assign the value 17 to the variable num. Then, display num.\n",
        "import numpy as np\n",
        "\n",
        "num = 17\n",
        "print(num)"
      ],
      "execution_count": 0,
      "outputs": []
    },
    {
      "cell_type": "markdown",
      "metadata": {
        "id": "q9L-PGIc-Q6G",
        "colab_type": "text"
      },
      "source": [
        "The simplest way to enter a collection of data values is as a list. Lists are made using square brackets, with the items inside separated by commas."
      ]
    },
    {
      "cell_type": "code",
      "metadata": {
        "id": "eqOHbmp3-UiX",
        "colab_type": "code",
        "colab": {}
      },
      "source": [
        "# 2. Execute the code below. In a comment, briefly explain what it does.\n",
        "\n",
        "rain = [4.79, 19, 9.65, 8.52, 6.08, 5.85, 8.69, 20.2, 16.36, 9.08, 13.53, 3.21, 13.19, 37.25, 9.24, 16.49, 4.42, 17.94, 11.57, 9.09, 31.01, 12.4, 12.46, 24.35, 8.11, 27.36, 21, 11.47, 7.35, 8.08, 12.48, 7.66, 17.86, \n",
        "        12.82, 10.43, 31.25, 10.71, 8.98, 26.98, 19.67, 33.44, 12.31, 7.22, 14.35, 14.92, 21.26, 7.17, 12.32, 7.77, 27.47, 16.58, 22, 20.44, 13.69, 7.93, 8.38, 18.79, 4.85, 8.18, 5.58, 21.13, 9.54, 16, 11.94, 11.99, \n",
        "        9.46, 26.21, 8.21]"
      ],
      "execution_count": 0,
      "outputs": []
    },
    {
      "cell_type": "markdown",
      "metadata": {
        "id": "C8pz_vrY-itI",
        "colab_type": "text"
      },
      "source": [
        "You can extract items from a list using their position. To get the item in position i, use the syntax `list[i]`. (Remember that Python starts counting at 0.)"
      ]
    },
    {
      "cell_type": "code",
      "metadata": {
        "id": "V0At3_4u-qNv",
        "colab_type": "code",
        "colab": {}
      },
      "source": [
        "# 3. Get the fourth item from the list rain.\n",
        "print(rain[3])"
      ],
      "execution_count": 0,
      "outputs": []
    },
    {
      "cell_type": "markdown",
      "metadata": {
        "id": "M9Rs6PgnE2Ao",
        "colab_type": "text"
      },
      "source": [
        "We can use built-in functions to perform operations with lists. The function `len` returns the number of items in a list."
      ]
    },
    {
      "cell_type": "code",
      "metadata": {
        "id": "2moVoJvBE57J",
        "colab_type": "code",
        "colab": {}
      },
      "source": [
        "# 4. Find the length of the rainfall list.\n",
        "print(len(rain))"
      ],
      "execution_count": 0,
      "outputs": []
    },
    {
      "cell_type": "markdown",
      "metadata": {
        "id": "TnKvBO9PFQNH",
        "colab_type": "text"
      },
      "source": [
        "The Python package numpy contains many useful tools for working with data and we will frequently make use of it in this course. To import this package, type in `import numpy as np`. You will then be able to use any function in numpy by prefacing it with `np.`"
      ]
    },
    {
      "cell_type": "code",
      "metadata": {
        "id": "1-P5WAgZFShV",
        "colab_type": "code",
        "colab": {}
      },
      "source": [
        "# 5. Use the function `np.mean()`, which can take lists as input, to compute the mean rainfall for our dataset. Then, find the median.\n",
        "import numpy as np\n",
        "\n",
        "mean_rain = np.mean(rain)\n",
        "med_rain = np.median(rain)\n",
        "print(mean_rain)\n",
        "print(med_rain)"
      ],
      "execution_count": 0,
      "outputs": []
    },
    {
      "cell_type": "markdown",
      "metadata": {
        "id": "Dpnn6lTlQsFn",
        "colab_type": "text"
      },
      "source": [
        "# Visualizing Data"
      ]
    },
    {
      "cell_type": "markdown",
      "metadata": {
        "id": "_J_rwsx-Q1lz",
        "colab_type": "text"
      },
      "source": [
        "Python has many tools available for visualizing data. In this class, we will use the graphics libraries matplotlib and Seaborn. First, we need to import these libraries. We will also use the command `%matplotlib inline` to make graphics visible. In future labs, we will run these commands at the start of every worksheet."
      ]
    },
    {
      "cell_type": "code",
      "metadata": {
        "id": "Eju08kKnQ_tc",
        "colab_type": "code",
        "colab": {}
      },
      "source": [
        "# Evaluate this cell\n",
        "%matplotlib inline\n",
        "import matplotlib as mat\n",
        "import seaborn as sns"
      ],
      "execution_count": 0,
      "outputs": []
    },
    {
      "cell_type": "markdown",
      "metadata": {
        "id": "kAe-Q6y1RFWc",
        "colab_type": "text"
      },
      "source": [
        "Probably the simplest way to display quantitative data is just to make each data point a dot. This produces what is known as a *dotplot*.\n",
        "\n",
        "Using Seaborn, we can use the `stripplot` function to make such a plot. \n",
        "\n",
        "Example: `sns.stripplot(data, orient=\"vertical\");"
      ]
    },
    {
      "cell_type": "code",
      "metadata": {
        "id": "tJygCDwrRL_3",
        "colab_type": "code",
        "colab": {}
      },
      "source": [
        "# 6 Create a dotplot of the LA rainfall data\n",
        "\n",
        "p=sns.stripplot(rain, jitter=True, orient=\"vertical\")\n",
        "\n",
        "p.set(ylabel=\"Amount of rain (mm)\")"
      ],
      "execution_count": 0,
      "outputs": []
    },
    {
      "cell_type": "markdown",
      "metadata": {
        "id": "gErwxofRRUbJ",
        "colab_type": "text"
      },
      "source": [
        "When displaying data, we almost always want to label the axes. To do this with Seaborn, we first assign our graph to a variable, say p. Then, we can use the p.set function to set an x label or a y label, depending on how the plot is oriented. Many Seaborn plotting functions use the same syntax.\n",
        "\n",
        "Example: `p=sns.stripplot(data, orient=\"vertical\")`\n",
        "\n",
        "`p.set(ylabel=\"Measurements (units)\")"
      ]
    },
    {
      "cell_type": "code",
      "metadata": {
        "id": "iRaD5H34RaH3",
        "colab_type": "code",
        "colab": {}
      },
      "source": [
        "# 7. Copy your plotting code from the previous exercise and label your axes.\n",
        "p.set(ylabel=\"Amount of rain (mm)\")"
      ],
      "execution_count": 0,
      "outputs": []
    },
    {
      "cell_type": "markdown",
      "metadata": {
        "id": "uDN6-FhnRoC5",
        "colab_type": "text"
      },
      "source": [
        "To prevent points from overlapping, we can jitter them horizontally. This is done using the `jitter=True` plotting option. \n",
        "\n",
        "Example: `sns.stripplot(data, jitter=True, orient=\"vertical\");"
      ]
    },
    {
      "cell_type": "code",
      "metadata": {
        "id": "o_JxDJdyRz12",
        "colab_type": "code",
        "colab": {}
      },
      "source": [
        "# 8. Add some jitter to your rainfall data plot."
      ],
      "execution_count": 0,
      "outputs": []
    },
    {
      "cell_type": "markdown",
      "metadata": {
        "id": "8aeTktPdR4rx",
        "colab_type": "text"
      },
      "source": [
        "Another, neater way to prevent points from overlapping is to use what is called a beeswarm plot. This does the same thing as adding jitter, but spaces the points out systematically rather than randomly. You can do this in Seaborn with the `swarmplot` function.\n",
        "\n",
        "Example: `sns.swarmplot(data)"
      ]
    },
    {
      "cell_type": "code",
      "metadata": {
        "id": "GmrOZoD2R-hb",
        "colab_type": "code",
        "colab": {}
      },
      "source": [
        "# 9. Make a beeswarm plot of the rainfall data.\n",
        "\n",
        "p=sns.swarmplot(rain)\n",
        "p.set(ylabel=\"Amount of rain (mm)\")"
      ],
      "execution_count": 0,
      "outputs": []
    },
    {
      "cell_type": "markdown",
      "metadata": {
        "id": "uTTel-l4SDHt",
        "colab_type": "text"
      },
      "source": [
        "While dot plots show every data point individually, sometimes we get more insight from combining values into bins and sowing how many observations are in each bin. This kind of plot is called a histogram. \n",
        "\n",
        "To make a histogram with Seaborn, use the function `distplot` with the option `kde=False`. \n",
        "\n",
        "Example:  `sns.distplot(data, kde=False);"
      ]
    },
    {
      "cell_type": "code",
      "metadata": {
        "id": "MuX7wvwoSHAS",
        "colab_type": "code",
        "colab": {}
      },
      "source": [
        "# 10. Make a histogram of the rainfall data.\n",
        "p=sns.distplot(rain, bins=10, kde=True);\n",
        "p.set(ylabel=\"Amount of rain (mm)\")"
      ],
      "execution_count": 0,
      "outputs": []
    },
    {
      "cell_type": "markdown",
      "metadata": {
        "id": "dzIlAAsqSLea",
        "colab_type": "text"
      },
      "source": [
        "The shape of a histogram is strongly affected by the number of bins used in making it. Usually, the default chosen by Seaborn works pretty well, but you should look at what happens when you change the number of bins in your histogram. This is done with the option `bins=n`, where `n` is the number of bins you want to break up your data into."
      ]
    },
    {
      "cell_type": "code",
      "metadata": {
        "id": "Uz0rBJxqSPrx",
        "colab_type": "code",
        "colab": {}
      },
      "source": [
        "# 11. Try at least two different numbers of bins for the rainfall data histogram."
      ],
      "execution_count": 0,
      "outputs": []
    },
    {
      "cell_type": "markdown",
      "metadata": {
        "id": "MuGZKqApSVtl",
        "colab_type": "text"
      },
      "source": [
        "The kde plotting option that we have been setting to `False` tells `distplot` whether to create a *kernel density estimator (KDE)* plot. A KDE plot is basically a smoothed histogram. You will learn more about how these plots work in lecture and the readings."
      ]
    },
    {
      "cell_type": "code",
      "metadata": {
        "id": "hV6ySdoISY-W",
        "colab_type": "code",
        "colab": {}
      },
      "source": [
        "# 12. Display the histogram you made in #10 with the KDE."
      ],
      "execution_count": 0,
      "outputs": []
    },
    {
      "cell_type": "markdown",
      "metadata": {
        "id": "gBFkqe9OSdvW",
        "colab_type": "text"
      },
      "source": [
        "For larger datasets, it can be useful to display summary statistics. A boxplot shows the median of a dataset, its 25th and 75th percentiles, and information about outliers (data points very different from most others).\n",
        "\n",
        "Example: `sns.boxplot(data, color=\"green\", orient=\"vertical\");`"
      ]
    },
    {
      "cell_type": "code",
      "metadata": {
        "id": "sVgRjFYXSile",
        "colab_type": "code",
        "colab": {}
      },
      "source": [
        "# 13. Make a box plot of the rainfall data. Make it whatever color you want. \n",
        "# HINT: Axes labels for boxplots work the same way they do for dotplots."
      ],
      "execution_count": 0,
      "outputs": []
    },
    {
      "cell_type": "code",
      "metadata": {
        "id": "aBUTDYO-Snx_",
        "colab_type": "code",
        "colab": {}
      },
      "source": [
        "p=sns.boxplot(rain, color=\"green\", orient=\"vertical\");\n",
        "p=sns.swarmplot(rain, color=\"orange\", orient=\"vertical\")\n",
        "p.set(ylabel=\"Amount of rain (mm)\")"
      ],
      "execution_count": 0,
      "outputs": []
    },
    {
      "cell_type": "code",
      "metadata": {
        "id": "g-Q67q1AStUH",
        "colab_type": "code",
        "colab": {}
      },
      "source": [
        "p=sns.violinplot(rain, color=\"blue\", orient=\"vertical\");\n",
        "#p=sns.swarmplot(rain, color=\"orange\", orient=\"vertical\")\n",
        "p.set(ylabel=\"Amount of rain (mm)\")"
      ],
      "execution_count": 0,
      "outputs": []
    }
  ]
}