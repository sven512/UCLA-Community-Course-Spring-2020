{
  "nbformat": 4,
  "nbformat_minor": 0,
  "metadata": {
    "colab": {
      "name": "Untitled1.ipynb",
      "provenance": [],
      "authorship_tag": "ABX9TyMqEd0LLvYexYIt+P45n3lj",
      "include_colab_link": true
    },
    "kernelspec": {
      "name": "python3",
      "display_name": "Python 3"
    }
  },
  "cells": [
    {
      "cell_type": "markdown",
      "metadata": {
        "id": "view-in-github",
        "colab_type": "text"
      },
      "source": [
        "<a href=\"https://colab.research.google.com/github/sven512/UCLA-Community-Course-Spring-2020/blob/master/Lab%201.ipynb\" target=\"_parent\"><img src=\"https://colab.research.google.com/assets/colab-badge.svg\" alt=\"Open In Colab\"/></a>"
      ]
    },
    {
      "cell_type": "markdown",
      "metadata": {
        "id": "q2lacbg3kOJn",
        "colab_type": "text"
      },
      "source": [
        "# ** Welcome!**"
      ]
    },
    {
      "cell_type": "markdown",
      "metadata": {
        "id": "QgHGqraf6k9K",
        "colab_type": "text"
      },
      "source": [
        "Print \"Hello World!\""
      ]
    },
    {
      "cell_type": "code",
      "metadata": {
        "id": "ARY3eUEZ5l96",
        "colab_type": "code",
        "colab": {
          "base_uri": "https://localhost:8080/",
          "height": 34
        },
        "outputId": "9a4e53d2-b026-44e5-8c1f-2d8d4097b396"
      },
      "source": [
        ""
      ],
      "execution_count": 1,
      "outputs": [
        {
          "output_type": "stream",
          "text": [
            "Hello world!\n"
          ],
          "name": "stdout"
        }
      ]
    },
    {
      "cell_type": "markdown",
      "metadata": {
        "id": "xcjqV1fx8sHd",
        "colab_type": "text"
      },
      "source": [
        "Create a list called \"mylist\" with the 7 items: excited, I, very, am, python, learn, to"
      ]
    },
    {
      "cell_type": "code",
      "metadata": {
        "id": "jn2mrDLK-vUd",
        "colab_type": "code",
        "colab": {}
      },
      "source": [
        "mylist = [\"excited\", \"I\", \"very\", \"am\", \"python\", \"learn\", \"to\"]"
      ],
      "execution_count": 0,
      "outputs": []
    },
    {
      "cell_type": "markdown",
      "metadata": {
        "id": "1e584BkW_HtY",
        "colab_type": "text"
      },
      "source": [
        "Learning to access list values:\n",
        "Print the word \"python\" from your list"
      ]
    },
    {
      "cell_type": "code",
      "metadata": {
        "id": "fiPkZbaQ_Own",
        "colab_type": "code",
        "colab": {
          "base_uri": "https://localhost:8080/",
          "height": 34
        },
        "outputId": "47ad1056-36f0-4121-a437-da6128af4851"
      },
      "source": [
        "print(mylist[4])"
      ],
      "execution_count": 4,
      "outputs": [
        {
          "output_type": "stream",
          "text": [
            "python\n"
          ],
          "name": "stdout"
        }
      ]
    },
    {
      "cell_type": "markdown",
      "metadata": {
        "id": "EwBGK8bL_XzA",
        "colab_type": "text"
      },
      "source": [
        "In a print command, rearrange the words in mylist to print \"I am very excited to learn python\""
      ]
    },
    {
      "cell_type": "code",
      "metadata": {
        "id": "KzC7LXOq_jD7",
        "colab_type": "code",
        "colab": {
          "base_uri": "https://localhost:8080/",
          "height": 34
        },
        "outputId": "060751bf-e693-47fe-d003-881c8a32c2ab"
      },
      "source": [
        "print(mylist[1], mylist[3], mylist[2], mylist[0], mylist[6], mylist[5], mylist[4])"
      ],
      "execution_count": 6,
      "outputs": [
        {
          "output_type": "stream",
          "text": [
            "I am very excited to learn python\n"
          ],
          "name": "stdout"
        }
      ]
    },
    {
      "cell_type": "markdown",
      "metadata": {
        "id": "tzvtmd7ZCBa6",
        "colab_type": "text"
      },
      "source": [
        "Now, create a new list reordered_list with the words in mylist reordered as per your print command above"
      ]
    },
    {
      "cell_type": "code",
      "metadata": {
        "id": "sKgcPLNkCUgN",
        "colab_type": "code",
        "colab": {}
      },
      "source": [
        "reordered_list = [mylist[1], mylist[3], mylist[2], mylist[0], mylist[6], mylist[5], mylist[4]]"
      ],
      "execution_count": 0,
      "outputs": []
    },
    {
      "cell_type": "markdown",
      "metadata": {
        "id": "KneL8bkZAO1C",
        "colab_type": "text"
      },
      "source": [
        "Make it easy to access values in arrays by using \"for\" loops\n",
        "A for loop is written as follows:\n",
        "for i in range(6)\n",
        "  <.....any iterative statement that you like....>"
      ]
    },
    {
      "cell_type": "markdown",
      "metadata": {
        "id": "UXiXegHbAmE-",
        "colab_type": "text"
      },
      "source": [
        "Create a \"for\" loop to print the message \"I am very excited to learn python\" from the array mylist"
      ]
    },
    {
      "cell_type": "code",
      "metadata": {
        "id": "CM1kObHSAxAC",
        "colab_type": "code",
        "colab": {
          "base_uri": "https://localhost:8080/",
          "height": 138
        },
        "outputId": "1066f280-5724-4d9f-bf53-c990c474cc1a"
      },
      "source": [
        "for i in range(0,7):\n",
        "  print(reordered_list[i])"
      ],
      "execution_count": 15,
      "outputs": [
        {
          "output_type": "stream",
          "text": [
            "I\n",
            "am\n",
            "very\n",
            "excited\n",
            "to\n",
            "learn\n",
            "python\n"
          ],
          "name": "stdout"
        }
      ]
    },
    {
      "cell_type": "markdown",
      "metadata": {
        "id": "Wr5QVC0RCoCH",
        "colab_type": "text"
      },
      "source": [
        "Now, you will learn how to import packages in python. Use \"import\" statement to import the famous numpy package as np\n",
        "Syntax: `import numpy as np`"
      ]
    },
    {
      "cell_type": "code",
      "metadata": {
        "id": "ED6Z2IMTDOWF",
        "colab_type": "code",
        "colab": {}
      },
      "source": [
        "import numpy as np"
      ],
      "execution_count": 0,
      "outputs": []
    },
    {
      "cell_type": "markdown",
      "metadata": {
        "id": "fD19uXgxDURa",
        "colab_type": "text"
      },
      "source": [
        "Create an array called \"rand_int\" consisting of 100 zeros. \n",
        "Syntax:\n",
        "`rand_int = np.zeros(100)`"
      ]
    },
    {
      "cell_type": "code",
      "metadata": {
        "id": "8Zlf3haGDm18",
        "colab_type": "code",
        "colab": {}
      },
      "source": [
        "import numpy as np\n",
        "rand_int = np.zeros(100)"
      ],
      "execution_count": 0,
      "outputs": []
    },
    {
      "cell_type": "markdown",
      "metadata": {
        "id": "kVznzaH9Dv1c",
        "colab_type": "text"
      },
      "source": [
        "Now use \"for\" loop to populate rand_int with 100 random integers, one index at a time"
      ]
    },
    {
      "cell_type": "code",
      "metadata": {
        "id": "SsZ_96UTD5_K",
        "colab_type": "code",
        "colab": {}
      },
      "source": [
        "import numpy as np\n",
        "rand_int = np.zeros(100)\n",
        "for i in range(0,100):\n",
        "  rand_int[i] = np.random.choice([1,2,3,4,5,6,7,8,9,10])"
      ],
      "execution_count": 0,
      "outputs": []
    },
    {
      "cell_type": "markdown",
      "metadata": {
        "id": "dTLdVj5fE1jd",
        "colab_type": "text"
      },
      "source": [
        "Create a histogram of rand_int. To do this, you will need to import another package, known as seaborn. \n",
        "Syntax:\n",
        "`import seaborn as snp`"
      ]
    },
    {
      "cell_type": "code",
      "metadata": {
        "id": "myxuyZXpFA8J",
        "colab_type": "code",
        "colab": {
          "base_uri": "https://localhost:8080/",
          "height": 296
        },
        "outputId": "fe9e4597-4dbd-4886-8559-b0607f04e9e3"
      },
      "source": [
        "import seaborn as sns\n",
        "import numpy as np\n",
        "rand_int = np.zeros(100)\n",
        "for i in range(0,100):\n",
        "  rand_int[i] = np.random.choice([1,2,3,4,5,6,7,8,9,10])\n",
        "\n",
        "myfirsthist = sns.distplot(rand_int, bins=5, kde=True);\n",
        "myfirsthist.set(xlabel = \"Random Integers which I generated\")"
      ],
      "execution_count": 26,
      "outputs": [
        {
          "output_type": "execute_result",
          "data": {
            "text/plain": [
              "[Text(0.5, 0, 'Random Integers which I generated')]"
            ]
          },
          "metadata": {
            "tags": []
          },
          "execution_count": 26
        },
        {
          "output_type": "display_data",
          "data": {
            "image/png": "[encoded data removed]",
            "text/plain": [
              "<Figure size 432x288 with 1 Axes>"
            ]
          },
          "metadata": {
            "tags": [],
            "needs_background": "light"
          }
        }
      ]
    }
  ]
}