{
  "nbformat": 4,
  "nbformat_minor": 0,
  "metadata": {
    "colab": {
      "name": "Untitled0.ipynb",
      "provenance": [],
      "authorship_tag": "ABX9TyNR6htJq+TeOEI9YO45zOJb",
      "include_colab_link": true
    },
    "kernelspec": {
      "name": "python3",
      "display_name": "Python 3"
    }
  },
  "cells": [
    {
      "cell_type": "markdown",
      "metadata": {
        "id": "view-in-github",
        "colab_type": "text"
      },
      "source": [
        "<a href=\"https://colab.research.google.com/github/sven512/UCLA-Community-Course-Spring-2020/blob/master/Lab1_visualization.ipynb\" target=\"_parent\"><img src=\"https://colab.research.google.com/assets/colab-badge.svg\" alt=\"Open In Colab\"/></a>"
      ]
    },
    {
      "cell_type": "markdown",
      "metadata": {
        "id": "fcXiFkTutGS3",
        "colab_type": "text"
      },
      "source": [
        "Lab 1: Visualizing Data\n",
        "In this lab, we will review basic Python programming and explore ways to visualize data. There is a good reference sheet at http://www.cogsci.rpi.edu/~destem/igd/python_cheat_sheet.pdf. We will focus on a dataset consisting of annual rainfall totals in downtown Los Angeles."
      ]
    },
    {
      "cell_type": "markdown",
      "metadata": {
        "id": "gMPuIEhWu6b9",
        "colab_type": "text"
      },
      "source": [
        ""
      ]
    }
  ]
}